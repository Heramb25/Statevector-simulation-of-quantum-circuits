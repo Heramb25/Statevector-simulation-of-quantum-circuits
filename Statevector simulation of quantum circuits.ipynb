{
 "cells": [
  {
   "cell_type": "markdown",
   "id": "6b185360-0020-4b28-b578-e972a0fa126f",
   "metadata": {},
   "source": [
    "# Task 1: Statevector simulation of quantum circuits\n",
    "## Using Matrix Multiplication\n",
    "### By Heramb Kumar Karil"
   ]
  },
  {
   "cell_type": "code",
   "execution_count": 1,
   "id": "27cb4629-c0dc-4d86-a90b-7d63591c57d2",
   "metadata": {},
   "outputs": [],
   "source": [
    "import numpy as np\n",
    "import math\n",
    "import time\n",
    "import matplotlib.pyplot as plt"
   ]
  },
  {
   "cell_type": "markdown",
   "id": "a20d5fe0-09b7-4d2e-b6d1-a9981981135e",
   "metadata": {},
   "source": [
    "### Part 1: \n",
    "    Taking n-qubits initially at 0 state (|00...0>) as tensor product of n [1,0] vectors giving us \n",
    "    vector of length 2^n and then applying all gates as matrix multiplication to the initial state.\n",
    "    Our final task is to get state vector in more readable form, an example of which is given below using qiskit."
   ]
  },
  {
   "cell_type": "code",
   "execution_count": 2,
   "id": "e1280e36-1145-495e-be0d-a0afd38ea959",
   "metadata": {},
   "outputs": [
    {
     "data": {
      "text/latex": [
       "$$\\frac{\\sqrt{2}}{2} |00\\rangle+\\frac{\\sqrt{2}}{2} |11\\rangle$$"
      ],
      "text/plain": [
       "<IPython.core.display.Latex object>"
      ]
     },
     "execution_count": 2,
     "metadata": {},
     "output_type": "execute_result"
    }
   ],
   "source": [
    "\"\"\" Note - Qiskit is used just for an example representation and not for any further calculations. \"\"\"\n",
    "import qiskit\n",
    "from qiskit import QuantumCircuit as QC\n",
    "from qiskit.quantum_info import Statevector\n",
    "C =  QC(2)\n",
    "C.h(0)\n",
    "C.cx(0,1)\n",
    "p = Statevector(C)\n",
    "p.draw(\"latex\")"
   ]
  },
  {
   "cell_type": "markdown",
   "id": "81604702-fe6e-482e-bd2b-58532a2277b4",
   "metadata": {},
   "source": [
    "     Defining fuction \"statevector(n)\" to convert matrix vector to state vector reprentation   "
   ]
  },
  {
   "cell_type": "code",
   "execution_count": 3,
   "id": "58b56605-31b9-489d-afdd-d3bd66a468f1",
   "metadata": {},
   "outputs": [],
   "source": [
    "def statevector(n):\n",
    "    dict ={}\n",
    "    count = 0\n",
    "    if type(n)==\"dict\":\n",
    "        n = list(n.values())\n",
    "    elif isinstance(n, np.ndarray):\n",
    "        n = n.tolist()\n",
    "    elif isinstance(n, list):\n",
    "        k = n[0]\n",
    "        if len(n) != 1:\n",
    "            for i in n[1:]:\n",
    "                k = np.tensordot(k,i, axes = 0).reshape(-1).squeeze()\n",
    "        n = k\n",
    "    for i in range(0,len(n)):\n",
    "        if n[i] != 0:\n",
    "            j, count = i+1, count + n[i]**2\n",
    "            t = len(bin(len(n))[2:])-1\n",
    "            s = bin(j-1)[2:]\n",
    "            k = \"0\"*(t-len(s))\n",
    "            state = k+bin(j-1)[2:]\n",
    "            dict[state]=float(n[i]**2)\n",
    "        if abs(count-1) < 10**(-13):\n",
    "            break\n",
    "    return dict"
   ]
  },
  {
   "cell_type": "code",
   "execution_count": 4,
   "id": "5a98d6b7-bfde-43ed-b68d-3ffc01120e59",
   "metadata": {},
   "outputs": [
    {
     "name": "stdin",
     "output_type": "stream",
     "text": [
      "Number of Qubits: 2\n"
     ]
    },
    {
     "data": {
      "text/plain": [
       "array([1., 0., 0., 0.])"
      ]
     },
     "execution_count": 4,
     "metadata": {},
     "output_type": "execute_result"
    }
   ],
   "source": [
    "\"\"\" Initialization \"\"\"\n",
    "num_qubits = int(input(\"Number of Qubits:\"))\n",
    "qubit = np.array([1,0])\n",
    "num = np.zeros(2**(num_qubits)-2)\n",
    "qubits = np.concatenate((qubit, num))\n",
    "qubits"
   ]
  },
  {
   "cell_type": "code",
   "execution_count": 5,
   "id": "af5ead6d-a160-407f-84df-6360908722e4",
   "metadata": {},
   "outputs": [],
   "source": [
    "\"\"\" Defining 1-qubit Not(X), Hadamard(H) Gates and 2-qubit Controled-Not(CNOT) Gate \"\"\"\n",
    "X = np.array([[0, 1],\n",
    "              [1, 0]])\n",
    "\n",
    "H = np.array([[1,  1],\n",
    "              [1, -1]]) / np.sqrt(2)\n",
    "\n",
    "Cnot = np.array([[1, 0, 0, 0],\n",
    "                 [0, 1, 0, 0],\n",
    "                 [0, 0, 0, 1],\n",
    "                 [0, 0, 1, 0]])"
   ]
  },
  {
   "cell_type": "code",
   "execution_count": 6,
   "id": "29568b03-8a4f-4762-b4cd-abeefb161073",
   "metadata": {},
   "outputs": [],
   "source": [
    "\"\"\" \n",
    "    Defining functions to apply single qubit Not(X), Hadamard(H) Gates on \"i-th\" qubit of the quantum circuit\n",
    "    and function to implement 2-qubit Controled-Not(CNOT) Gate with \"control\" as controled and \"target\" as target qubit.\n",
    "    \n",
    "    Note - Here X and H gates are general and they can be implemented independently to any qubit.\n",
    "           But CNOT gate is such that it will only work if controled qubit is \"i\" and target is \"i+1\". \n",
    "    \"\"\"\n",
    "\n",
    "def X_gate1(state, i):\n",
    "    num_qubits = int(np.log2(len(state)))\n",
    "    full_gate = 1\n",
    "    #creating Matrix to apply X gate on i-th qubit\n",
    "    for qubit in range(num_qubits):\n",
    "        if qubit == i:\n",
    "            full_gate = np.kron(full_gate, X)\n",
    "        else:\n",
    "            full_gate = np.kron(full_gate, np.eye(2))\n",
    "    state = full_gate @ state # Appling X gate to the state using matrix multiplication\n",
    "    return state\n",
    "\n",
    "def H_gate1(state, i):\n",
    "    num_qubits = int(np.log2(len(state)))\n",
    "    full_gate = 1\n",
    "    #creating Matrix to apply H gate on i-th qubit\n",
    "    for qubit in range(num_qubits):\n",
    "        if qubit == i:\n",
    "            full_gate = np.kron(full_gate, H)\n",
    "        else:\n",
    "            full_gate = np.kron(full_gate, np.eye(2))\n",
    "    state = full_gate @ state # Appling H gate to the state using matrix multiplication\n",
    "    return state\n",
    "\n",
    "\n",
    "def Cnot_gate1(state, control, target):\n",
    "    num_qubits = int(np.log2(len(state)))\n",
    "    full_gate = 1\n",
    "    for i in range(num_qubits):\n",
    "        if i == control:\n",
    "            # Apply the 2-qubit CNOT gate between control and target\n",
    "            full_gate = np.kron(full_gate, Cnot if i + 1 == target else np.eye(2))\n",
    "        elif i == target:\n",
    "            continue  # skip this qubit since we already handled it with control\n",
    "        else:\n",
    "            full_gate = np.kron(full_gate, np.eye(2))\n",
    "    \n",
    "    # Apply the full CNOT gate to the state vector\n",
    "    state = full_gate @ state \n",
    "    return state"
   ]
  },
  {
   "cell_type": "code",
   "execution_count": 7,
   "id": "6c171c2d-ff19-4b87-8565-ea8b76349607",
   "metadata": {},
   "outputs": [
    {
     "name": "stdout",
     "output_type": "stream",
     "text": [
      "State after applying X, H and CNOT Gates:\n",
      "{'110': 0.4999999999999999, '111': 0.4999999999999999}\n"
     ]
    }
   ],
   "source": [
    "    \"\"\" Example \"\"\"\n",
    "# Initialization\n",
    "num_qubits = 3\n",
    "initial_state = np.zeros(2**num_qubits)\n",
    "initial_state[0] = 1  # |000> state\n",
    "\n",
    "# Apply X gate on qubit 1\n",
    "x = X_gate1(initial_state, 0)\n",
    "# Apply CNOT gate on qubit 1 and 2 \n",
    "c = Cnot_gate1(x, 0, 1)\n",
    "# Apply H gate on qubit 2\n",
    "h = H_gate1(c, 2)\n",
    "print(\"State after applying X, H and CNOT Gates:\")\n",
    "print(statevector(h))"
   ]
  },
  {
   "cell_type": "code",
   "execution_count": 8,
   "id": "b8491c4f-0299-462d-ac48-f11b96a4c3b5",
   "metadata": {
    "scrolled": true
   },
   "outputs": [
    {
     "data": {
      "text/plain": [
       "[0.0,\n",
       " 0.0,\n",
       " 0.0,\n",
       " 0.0010292530059814453,\n",
       " 0.0,\n",
       " 0.0009653568267822266,\n",
       " 0.0009970664978027344,\n",
       " 0.0029921531677246094,\n",
       " 0.010001897811889648,\n",
       " 0.04638981819152832,\n",
       " 0.14921212196350098,\n",
       " 0.7615530490875244,\n",
       " 2.4109113216400146,\n",
       " 9.40322995185852,\n",
       " 38.006019592285156]"
      ]
     },
     "execution_count": 8,
     "metadata": {},
     "output_type": "execute_result"
    }
   ],
   "source": [
    "\"\"\" Getting time to run the code for systems having number of qubits from 1 to 15 (maximum limit)\"\"\"\n",
    "num_qubits = [i for i in range(1,16)]\n",
    "time_task1 = []\n",
    "for i in num_qubits:\n",
    "    start_time = time.time()\n",
    "    qubit = np.array([1,0])\n",
    "    num = np.zeros(2**(i)-2)\n",
    "    qubits = np.concatenate((qubit, num))\n",
    "    x = X_gate1(qubits, 0)\n",
    "    h = H_gate1(x, 0)\n",
    "    c = Cnot_gate1(h, 0, 1) if i != 1  else h\n",
    "    statevector(c)\n",
    "    end_time = time.time()\n",
    "    time_task1.append(end_time - start_time)\n",
    "time_task1"
   ]
  },
  {
   "cell_type": "code",
   "execution_count": 9,
   "id": "749f01d4-881d-4b95-b8df-2cf806953a46",
   "metadata": {},
   "outputs": [
    {
     "data": {
      "image/png": "[encoded data removed]",
      "text/plain": [
       "<Figure size 640x480 with 1 Axes>"
      ]
     },
     "metadata": {},
     "output_type": "display_data"
    }
   ],
   "source": [
    "\n",
    "plt.plot(num_qubits, time_task1, marker='o')  # marker='o' adds a circle marker at each point\n",
    "plt.xlabel(\"num_qubits\")\n",
    "plt.ylabel(\"time_task1\")\n",
    "plt.title(\"Sample Plot\")\n",
    "\n",
    "# Display the plot\n",
    "plt.show()"
   ]
  },
  {
   "cell_type": "markdown",
   "id": "a636e6a8-6d92-4a77-93c5-7f4c46d06860",
   "metadata": {},
   "source": [
    "### Part 2:\n",
    "    Taking n-qubits initially at 0 state (|00...0>) as n [1,0] vectors giving us \n",
    "    matrix of (2,n) and then applying all gates.\n",
    "\n",
    "    Finally comparing the run time for both of the methods\n"
   ]
  },
  {
   "cell_type": "code",
   "execution_count": 10,
   "id": "149325b8-b838-40a1-8757-cd6e4aed635a",
   "metadata": {
    "scrolled": true
   },
   "outputs": [],
   "source": [
    "\"\"\" Redefining the Functions to apply the same gates as before. \"\"\"\n",
    "def X_gate2(qc, i):\n",
    "    M = np.array(qc[i])\n",
    "    qc[i] = np.tensordot(X, M, axes = 1).tolist()\n",
    "    # Adjusting the mechine error\n",
    "    for j in range(0,2):\n",
    "        if abs(qc[i][j]-1) < 10**(-15):\n",
    "            qc[i][j] = 1\n",
    "        elif abs(qc[i][j]-0) < 10**(-15):\n",
    "            qc[i][j] = 0\n",
    "        elif abs(qc[i][j]+1) < 10**(-15):\n",
    "            qc[i][j] = -1\n",
    "    return qc\n",
    "\n",
    "def H_gate2(qc, i):\n",
    "    qc[i] = (H @ qc[i]).tolist()\n",
    "    # Adjusting the mechine error\n",
    "    for j in range(0,2):\n",
    "        if abs(qc[i][j]-1) < 10**(-15):\n",
    "            qc[i][j] = 1\n",
    "        elif abs(qc[i][j]-0) < 10**(-15):\n",
    "            qc[i][j] = 0\n",
    "        elif abs(qc[i][j]+1) < 10**(-15):\n",
    "            qc[i][j] = -1\n",
    "    return qc\n",
    "\n",
    "\n",
    "def Cnot_gate2(state, control, target):\n",
    "    num_qubits = int((len(state)))\n",
    "    if state[control] == [1,0]:\n",
    "        state[target] = np.eye(2) @ state[target]\n",
    "    elif state[control] == [0,1]:\n",
    "        state[target] = X @ state[target]\n",
    "    else:\n",
    "        full_state = state[0]\n",
    "        for qubit in state[1:]:\n",
    "            full_state = np.tensordot(full_state,qubit, axes=0).reshape(-1).squeeze()\n",
    "            full_gate = 1\n",
    "        for i in range(num_qubits):\n",
    "            if i == control:\n",
    "                full_gate = np.kron(full_gate, Cnot if i + 1 == target else np.eye(2))\n",
    "            elif i == target:\n",
    "                continue  \n",
    "            else:\n",
    "                full_gate = np.kron(full_gate, np.eye(2))\n",
    "        state = full_gate @ full_state \n",
    "    return state"
   ]
  },
  {
   "cell_type": "code",
   "execution_count": 11,
   "id": "63fa1a46-14b8-4d18-aaec-34fa323b15ad",
   "metadata": {},
   "outputs": [
    {
     "name": "stdin",
     "output_type": "stream",
     "text": [
      "Number of Qubits: 3\n"
     ]
    },
    {
     "data": {
      "text/plain": [
       "[[1, 0], [1, 0], [1, 0]]"
      ]
     },
     "execution_count": 11,
     "metadata": {},
     "output_type": "execute_result"
    }
   ],
   "source": [
    "# Initialization\n",
    "num_qubits = int(input(\"Number of Qubits:\"))\n",
    "qubit = [[1,0]]\n",
    "qc = qubit*num_qubits\n",
    "qc"
   ]
  },
  {
   "cell_type": "code",
   "execution_count": 12,
   "id": "1af6af80-6e96-4887-ab98-89a413d1e7e6",
   "metadata": {},
   "outputs": [
    {
     "data": {
      "text/plain": [
       "{'000': 0.4999999999999999, '110': 0.4999999999999999}"
      ]
     },
     "execution_count": 12,
     "metadata": {},
     "output_type": "execute_result"
    }
   ],
   "source": [
    "x = X_gate2(qc, 0)\n",
    "h = H_gate2(x, 0)\n",
    "c = Cnot_gate2(h, 0, 1)\n",
    "statevector(c)"
   ]
  },
  {
   "cell_type": "code",
   "execution_count": 13,
   "id": "c68671ed-b169-4d3b-82ad-ffc8c865827b",
   "metadata": {
    "scrolled": true
   },
   "outputs": [
    {
     "data": {
      "text/plain": [
       "[0.0,\n",
       " 0.0006368160247802734,\n",
       " 0.0,\n",
       " 0.0010919570922851562,\n",
       " 0.0,\n",
       " 0.0,\n",
       " 0.0009500980377197266,\n",
       " 0.0011219978332519531,\n",
       " 0.0030395984649658203,\n",
       " 0.013052940368652344,\n",
       " 0.056403398513793945,\n",
       " 0.20189666748046875,\n",
       " 0.762627363204956,\n",
       " 3.115339517593384,\n",
       " 12.702986001968384]"
      ]
     },
     "execution_count": 13,
     "metadata": {},
     "output_type": "execute_result"
    }
   ],
   "source": [
    "\"\"\" Getting time to run the code for systems having number of qubits from 1 to 15\"\"\"\n",
    "num_qubits = [i for i in range(1,16)]\n",
    "time_task2 = []\n",
    "for i in num_qubits:\n",
    "    start_time = time.time()\n",
    "    qubit = [[1,0]]\n",
    "    qubits = qubit*i\n",
    "    x = X_gate2(qubits, 0)\n",
    "    h = H_gate2(x, 0)\n",
    "    c = Cnot_gate2(h, 0, 1) if i != 1  else h\n",
    "    statevector(c)\n",
    "    end_time = time.time()\n",
    "    time_task2.append(end_time - start_time)\n",
    "time_task2"
   ]
  },
  {
   "cell_type": "code",
   "execution_count": 14,
   "id": "687d7c63-8b04-4904-96d3-380696485a28",
   "metadata": {},
   "outputs": [
    {
     "data": {
      "image/png": "[encoded data removed]",
      "text/plain": [
       "<Figure size 600x400 with 1 Axes>"
      ]
     },
     "metadata": {},
     "output_type": "display_data"
    }
   ],
   "source": [
    "x = num_qubits\n",
    "y1 = time_task1\n",
    "y2 = time_task2\n",
    "\n",
    "plt.figure(figsize=(6, 4))\n",
    "\n",
    "plt.plot(x, y1, color='blue', label='1st Method', linewidth=2)\n",
    "\n",
    "plt.plot(x, y2, color='red', label='2nd Method', linewidth=2)\n",
    "\n",
    "plt.title(\"Run Time Comparison between both methods\")\n",
    "plt.xlabel(\"Number of Qubits\")\n",
    "plt.ylabel(\"Run Time\")\n",
    "plt.legend()\n",
    "# Display both subplots\n",
    "plt.tight_layout()\n",
    "plt.show()"
   ]
  },
  {
   "cell_type": "code",
   "execution_count": 15,
   "id": "349d7549-65ad-4cfd-84ae-d70bb9ef70a5",
   "metadata": {},
   "outputs": [],
   "source": [
    "\"\"\" Getting time to run the code for systems having number of qubits from 1 to 15\"\"\"\n",
    "num_qubits = [i for i in range(1,16)]\n",
    "time_task3 = []\n",
    "time_task4 = []\n",
    "\n",
    "for i in num_qubits:\n",
    "    start_time = time.time()\n",
    "    qubit = np.array([1,0])\n",
    "    num = np.zeros(2**(i)-2)\n",
    "    qubits = np.concatenate((qubit, num))\n",
    "    for j in range(0,int(np.log2(i))+1):\n",
    "        x = X_gate1(qubits, j)\n",
    "        h = H_gate1(x, j)\n",
    "    c = Cnot_gate1(h, 0, 1) if i != 1  else h\n",
    "    statevector(c)\n",
    "    end_time = time.time()\n",
    "    time_task3.append(end_time - start_time)\n",
    "\n",
    "for i in num_qubits:\n",
    "    start_time = time.time()\n",
    "    qubit = [[1,0]]\n",
    "    qubits = qubit*i\n",
    "    for j in range(0,int(np.log2(i))+1):\n",
    "        x = X_gate2(qubits, j)\n",
    "        h = H_gate2(x, j)\n",
    "    c = Cnot_gate2(h, 0, 1) if i != 1  else h\n",
    "    statevector(c)\n",
    "    end_time = time.time()\n",
    "    time_task4.append(end_time - start_time)"
   ]
  },
  {
   "cell_type": "code",
   "execution_count": 16,
   "id": "d8e1899a-2317-45dd-b7ca-dd9d7b9ff2e3",
   "metadata": {},
   "outputs": [
    {
     "data": {
      "image/png": "[encoded data removed]",
      "text/plain": [
       "<Figure size 600x400 with 1 Axes>"
      ]
     },
     "metadata": {},
     "output_type": "display_data"
    }
   ],
   "source": [
    "x = num_qubits\n",
    "y1 = time_task3\n",
    "y2 = time_task4\n",
    "\n",
    "plt.figure(figsize=(6, 4))\n",
    "\n",
    "plt.plot(x, y1, color='blue', label='1st Method', linewidth=2)\n",
    "\n",
    "plt.plot(x, y2, color='red', label='2nd Method', linewidth=2)\n",
    "\n",
    "plt.title(\"Run Time Comparison for high number of Gates\")\n",
    "plt.xlabel(\"Number of Qubits\")\n",
    "plt.ylabel(\"Run Time\")\n",
    "\n",
    "# Display both subplots\n",
    "plt.tight_layout()\n",
    "plt.show()"
   ]
  },
  {
   "cell_type": "markdown",
   "id": "00b77842-ed2d-43af-8b1e-bdb9029c5fa5",
   "metadata": {},
   "source": [
    "### \n",
    "    We can see that the run time increases exponentilly with addition of each qubit,\n",
    "    as well as with implimentation of each gate."
   ]
  },
  {
   "cell_type": "markdown",
   "id": "0d3a89f3-eaf9-446f-aa70-7021fe921d74",
   "metadata": {},
   "source": [
    "### Simulation of quantum circuit outcome after measurement "
   ]
  },
  {
   "cell_type": "code",
   "execution_count": 17,
   "id": "56ba15ad-ca24-4dba-9568-32e07865dbcd",
   "metadata": {},
   "outputs": [],
   "source": [
    "\"\"\" Defining Fuction to simulate_experiment from given probability dictionary\n",
    "    (the statevector fuctions returns the same) \"n\" number of times.\n",
    "    \n",
    "    This function returns a dictionary with keys as possible outcomes \n",
    "    and number of times it occures as its corresponding values.    \"\"\"\n",
    "\n",
    "def simulate_experiment(prob_dist, n):\n",
    "    outcomes = list(prob_dist.keys())\n",
    "    probabilities = list(prob_dist.values())\n",
    "    # Simulate the experiment n times\n",
    "    simulations = np.random.choice(outcomes, size=n, p=probabilities)\n",
    "    outcome_counts = {outcome: np.sum(simulations == outcome) for outcome in outcomes}\n",
    "    return outcome_counts"
   ]
  },
  {
   "cell_type": "code",
   "execution_count": 18,
   "id": "0cbbea2a-7a04-4cbb-930b-b0095306aab4",
   "metadata": {},
   "outputs": [
    {
     "name": "stdin",
     "output_type": "stream",
     "text": [
      "Number of Qubits: 3\n"
     ]
    },
    {
     "data": {
      "text/plain": [
       "{'000': 0.2499999999999999,\n",
       " '001': 0.2499999999999999,\n",
       " '110': 0.2499999999999999,\n",
       " '111': 0.2499999999999999}"
      ]
     },
     "execution_count": 18,
     "metadata": {},
     "output_type": "execute_result"
    }
   ],
   "source": [
    "    \"\"\" Example \"\"\"\n",
    "# Initialization\n",
    "num_qubits = int(input(\"Number of Qubits:\"))\n",
    "qubit = [[1,0]]\n",
    "qc = qubit*num_qubits\n",
    "x = X_gate2(qc, 0)\n",
    "h = H_gate2(qc, 0)\n",
    "h1 = H_gate2(h, 2)\n",
    "c = Cnot_gate2(h1, 0, 1)\n",
    "statevector(c)"
   ]
  },
  {
   "cell_type": "code",
   "execution_count": 19,
   "id": "a77a5e56-b559-4b1c-bc4c-82513d0aa78a",
   "metadata": {},
   "outputs": [
    {
     "data": {
      "image/png": "[encoded data removed]",
      "text/plain": [
       "<Figure size 800x600 with 1 Axes>"
      ]
     },
     "metadata": {},
     "output_type": "display_data"
    }
   ],
   "source": [
    "\"\"\" Simulate the experiment \"\"\"\n",
    "# Number of simulations\n",
    "n = 1000\n",
    "prob_dist = statevector(c)\n",
    "outcome_counts = simulate_experiment(prob_dist, n)\n",
    "\n",
    "# Plot the results\n",
    "outcomes = list(outcome_counts.keys())\n",
    "counts = list(outcome_counts.values())\n",
    "    \n",
    "    # Plotting\n",
    "plt.figure(figsize=(8, 6))\n",
    "plt.bar(outcomes, counts, color='skyblue')\n",
    "plt.xlabel(\"Outcomes\")\n",
    "plt.ylabel(\"Number of occurrences\")\n",
    "plt.title(\"Simulation Results\")\n",
    "plt.grid(axis='y', linestyle='--', alpha=0.7)\n",
    "plt.show()"
   ]
  },
  {
   "cell_type": "code",
   "execution_count": null,
   "id": "e35be9c7-5d0b-4c7e-929c-a1e94d56e74b",
   "metadata": {},
   "outputs": [],
   "source": []
  },
  {
   "cell_type": "code",
   "execution_count": null,
   "id": "2e005f83-f9ac-4776-b8ff-c48c2a9dc1ea",
   "metadata": {},
   "outputs": [],
   "source": []
  }
 ],
 "metadata": {
  "kernelspec": {
   "display_name": "condaenv",
   "language": "python",
   "name": "condaenv"
  },
  "language_info": {
   "codemirror_mode": {
    "name": "ipython",
    "version": 3
   },
   "file_extension": ".py",
   "mimetype": "text/x-python",
   "name": "python",
   "nbconvert_exporter": "python",
   "pygments_lexer": "ipython3",
   "version": "3.12.4"
  }
 },
 "nbformat": 4,
 "nbformat_minor": 5
}
